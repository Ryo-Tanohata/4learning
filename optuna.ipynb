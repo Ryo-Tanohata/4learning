{
  "nbformat": 4,
  "nbformat_minor": 0,
  "metadata": {
    "colab": {
      "name": "optuna.ipynb",
      "provenance": [],
      "include_colab_link": true
    },
    "kernelspec": {
      "name": "python3",
      "display_name": "Python 3"
    },
    "language_info": {
      "name": "python"
    }
  },
  "cells": [
    {
      "cell_type": "markdown",
      "metadata": {
        "id": "view-in-github",
        "colab_type": "text"
      },
      "source": [
        "<a href=\"https://colab.research.google.com/github/Ryo-Tanohata/4learning/blob/main/optuna.ipynb\" target=\"_parent\"><img src=\"https://colab.research.google.com/assets/colab-badge.svg\" alt=\"Open In Colab\"/></a>"
      ]
    },
    {
      "cell_type": "markdown",
      "metadata": {
        "id": "cg6uV_jdqAYl"
      },
      "source": [
        "#202009"
      ]
    },
    {
      "cell_type": "markdown",
      "metadata": {
        "id": "sqP2l8uzqM73"
      },
      "source": [
        "https://cyberagent.ai/optuna-from-scratch"
      ]
    },
    {
      "cell_type": "code",
      "metadata": {
        "id": "f56zj3UiqsRM",
        "colab": {
          "base_uri": "https://localhost:8080/"
        },
        "outputId": "c0c06617-be34-4934-bddf-cac62d5bc56b"
      },
      "source": [
        "pip install -q optuna"
      ],
      "execution_count": null,
      "outputs": [
        {
          "output_type": "stream",
          "text": [
            "\u001b[K     |████████████████████████████████| 296kB 4.3MB/s \n",
            "\u001b[K     |████████████████████████████████| 81kB 4.8MB/s \n",
            "\u001b[K     |████████████████████████████████| 163kB 7.7MB/s \n",
            "\u001b[K     |████████████████████████████████| 143kB 7.8MB/s \n",
            "\u001b[K     |████████████████████████████████| 51kB 4.9MB/s \n",
            "\u001b[K     |████████████████████████████████| 112kB 8.8MB/s \n",
            "\u001b[K     |████████████████████████████████| 81kB 5.6MB/s \n",
            "\u001b[?25h  Building wheel for pyperclip (setup.py) ... \u001b[?25l\u001b[?25hdone\n"
          ],
          "name": "stdout"
        }
      ]
    },
    {
      "cell_type": "code",
      "metadata": {
        "id": "G6Kxy0KbqnBg"
      },
      "source": [
        "import optuna as minituna"
      ],
      "execution_count": null,
      "outputs": []
    },
    {
      "cell_type": "code",
      "metadata": {
        "id": "gudYCsRKqNqB",
        "colab": {
          "base_uri": "https://localhost:8080/"
        },
        "outputId": "6790d381-5d37-4fbc-b94e-45618805707e"
      },
      "source": [
        "#import minituna_v1 as minituna\n",
        " \n",
        "def objective(trial: minituna.Trial) -> float:\n",
        "    x = trial.suggest_uniform(\"x\", 0, 10)\n",
        "    y = trial.suggest_uniform(\"y\", 0, 10)\n",
        "    return (x - 3) ** 2 + (y - 5) ** 2\n",
        " \n",
        "if __name__ == \"__main__\":\n",
        "    study = minituna.create_study()\n",
        "    study.optimize(objective, 10)\n",
        "    print(\"Best trial:\", study.best_trial)"
      ],
      "execution_count": null,
      "outputs": [
        {
          "output_type": "stream",
          "text": [
            "\u001b[32m[I 2021-04-27 00:12:38,295]\u001b[0m A new study created in memory with name: no-name-715c9fce-35a6-4958-a72d-034fa431919f\u001b[0m\n",
            "\u001b[32m[I 2021-04-27 00:12:38,300]\u001b[0m Trial 0 finished with value: 3.4142402142251966 and parameters: {'x': 1.1918574640854385, 'y': 4.619394188113667}. Best is trial 0 with value: 3.4142402142251966.\u001b[0m\n",
            "\u001b[32m[I 2021-04-27 00:12:38,303]\u001b[0m Trial 1 finished with value: 7.1165129751803375 and parameters: {'x': 2.25559869335876, 'y': 2.4382857946579692}. Best is trial 0 with value: 3.4142402142251966.\u001b[0m\n",
            "\u001b[32m[I 2021-04-27 00:12:38,308]\u001b[0m Trial 2 finished with value: 13.693456372908983 and parameters: {'x': 2.794316990182918, 'y': 8.694746388100484}. Best is trial 0 with value: 3.4142402142251966.\u001b[0m\n",
            "\u001b[32m[I 2021-04-27 00:12:38,311]\u001b[0m Trial 3 finished with value: 5.991770123809372 and parameters: {'x': 1.1756003325228348, 'y': 6.631973031982631}. Best is trial 0 with value: 3.4142402142251966.\u001b[0m\n",
            "\u001b[32m[I 2021-04-27 00:12:38,316]\u001b[0m Trial 4 finished with value: 8.041302298340245 and parameters: {'x': 5.609781902389349, 'y': 3.890792751420513}. Best is trial 0 with value: 3.4142402142251966.\u001b[0m\n",
            "\u001b[32m[I 2021-04-27 00:12:38,320]\u001b[0m Trial 5 finished with value: 61.698137785814545 and parameters: {'x': 9.7933536167694, 'y': 8.943156657215214}. Best is trial 0 with value: 3.4142402142251966.\u001b[0m\n",
            "\u001b[32m[I 2021-04-27 00:12:38,323]\u001b[0m Trial 6 finished with value: 9.622299361245087 and parameters: {'x': 4.341799685880641, 'y': 7.7967611560903265}. Best is trial 0 with value: 3.4142402142251966.\u001b[0m\n",
            "\u001b[32m[I 2021-04-27 00:12:38,336]\u001b[0m Trial 7 finished with value: 27.053784908628455 and parameters: {'x': 6.689601054825637, 'y': 8.666146337076304}. Best is trial 0 with value: 3.4142402142251966.\u001b[0m\n",
            "\u001b[32m[I 2021-04-27 00:12:38,342]\u001b[0m Trial 8 finished with value: 11.909883815070964 and parameters: {'x': 4.842895359372071, 'y': 7.91781091050737}. Best is trial 0 with value: 3.4142402142251966.\u001b[0m\n",
            "\u001b[32m[I 2021-04-27 00:12:38,348]\u001b[0m Trial 9 finished with value: 6.459978458714655 and parameters: {'x': 4.139817640139649, 'y': 2.728261853570897}. Best is trial 0 with value: 3.4142402142251966.\u001b[0m\n"
          ],
          "name": "stderr"
        },
        {
          "output_type": "stream",
          "text": [
            "Best trial: FrozenTrial(number=0, values=[3.4142402142251966], datetime_start=datetime.datetime(2021, 4, 27, 0, 12, 38, 299021), datetime_complete=datetime.datetime(2021, 4, 27, 0, 12, 38, 299874), params={'x': 1.1918574640854385, 'y': 4.619394188113667}, distributions={'x': UniformDistribution(high=10.0, low=0.0), 'y': UniformDistribution(high=10.0, low=0.0)}, user_attrs={}, system_attrs={}, intermediate_values={}, trial_id=0, state=TrialState.COMPLETE, value=None)\n"
          ],
          "name": "stdout"
        }
      ]
    },
    {
      "cell_type": "code",
      "metadata": {
        "id": "kJ1LDVLBqUul"
      },
      "source": [
        "def objective(trial):\n",
        "    iris = sklearn.datasets.load_iris()\n",
        "    x, y = iris.data, iris.target\n",
        " \n",
        "    classifier_name = trial.suggest_categorical(\"classifier\", [\"SVC\", \"RandomForest\"])\n",
        "    if classifier_name == \"SVC\":\n",
        "        svc_c = trial.suggest_loguniform(\"svc_c\", 1e-10, 1e10)\n",
        "        classifier_obj = sklearn.svm.SVC(C=svc_c, gamma=\"auto\")\n",
        "    else:\n",
        "        rf_max_depth = trial.suggest_int(\"rf_max_depth\", 2, 32)\n",
        "        classifier_obj = sklearn.ensemble.RandomForestClassifier(\n",
        "            max_depth=rf_max_depth, n_estimators=10\n",
        "        )\n",
        " \n",
        "    score = sklearn.model_selection.cross_val_score(\n",
        "        classifier_obj, x, y, n_jobs=-1, cv=3\n",
        "    )\n",
        "    accuracy = score.mean()\n",
        "    return 1 - accuracy # 最小化問題に変えています"
      ],
      "execution_count": null,
      "outputs": []
    },
    {
      "cell_type": "code",
      "metadata": {
        "id": "5UHsbrcxrBWW",
        "colab": {
          "base_uri": "https://localhost:8080/",
          "height": 352
        },
        "outputId": "df6f33ea-30f7-46fd-d977-c960e0b5899e"
      },
      "source": [
        "class BaseDistribution(abc.ABC):\n",
        "    @abc.abstractmethod\n",
        "    def to_internal_repr(self, external_repr: Any) -> float:\n",
        "        ...\n",
        " \n",
        "    @abc.abstractmethod\n",
        "    def to_external_repr(self, internal_repr: float) -> Any:\n",
        "        ..."
      ],
      "execution_count": null,
      "outputs": [
        {
          "output_type": "error",
          "ename": "NameError",
          "evalue": "ignored",
          "traceback": [
            "\u001b[0;31m---------------------------------------------------------------------------\u001b[0m",
            "\u001b[0;31mNameError\u001b[0m                                 Traceback (most recent call last)",
            "\u001b[0;32m<ipython-input-8-2fc5bfe611bd>\u001b[0m in \u001b[0;36m<module>\u001b[0;34m()\u001b[0m\n\u001b[0;32m----> 1\u001b[0;31m \u001b[0;32mclass\u001b[0m \u001b[0mBaseDistribution\u001b[0m\u001b[0;34m(\u001b[0m\u001b[0mabc\u001b[0m\u001b[0;34m.\u001b[0m\u001b[0mABC\u001b[0m\u001b[0;34m)\u001b[0m\u001b[0;34m:\u001b[0m\u001b[0;34m\u001b[0m\u001b[0;34m\u001b[0m\u001b[0m\n\u001b[0m\u001b[1;32m      2\u001b[0m     \u001b[0;34m@\u001b[0m\u001b[0mabc\u001b[0m\u001b[0;34m.\u001b[0m\u001b[0mabstractmethod\u001b[0m\u001b[0;34m\u001b[0m\u001b[0;34m\u001b[0m\u001b[0m\n\u001b[1;32m      3\u001b[0m     \u001b[0;32mdef\u001b[0m \u001b[0mto_internal_repr\u001b[0m\u001b[0;34m(\u001b[0m\u001b[0mself\u001b[0m\u001b[0;34m,\u001b[0m \u001b[0mexternal_repr\u001b[0m\u001b[0;34m:\u001b[0m \u001b[0mAny\u001b[0m\u001b[0;34m)\u001b[0m \u001b[0;34m->\u001b[0m \u001b[0mfloat\u001b[0m\u001b[0;34m:\u001b[0m\u001b[0;34m\u001b[0m\u001b[0;34m\u001b[0m\u001b[0m\n\u001b[1;32m      4\u001b[0m         \u001b[0;34m...\u001b[0m\u001b[0;34m\u001b[0m\u001b[0;34m\u001b[0m\u001b[0m\n\u001b[1;32m      5\u001b[0m \u001b[0;34m\u001b[0m\u001b[0m\n",
            "\u001b[0;31mNameError\u001b[0m: name 'abc' is not defined"
          ]
        }
      ]
    },
    {
      "cell_type": "code",
      "metadata": {
        "id": "INDtCJmwrCSz"
      },
      "source": [
        ""
      ],
      "execution_count": null,
      "outputs": []
    },
    {
      "cell_type": "markdown",
      "metadata": {
        "id": "DB8K4INqp0Kh"
      },
      "source": [
        "#古い資料"
      ]
    },
    {
      "cell_type": "markdown",
      "metadata": {
        "id": "GkGumZi-fwBe"
      },
      "source": [
        "https://qiita.com/studio_haneya/items/2dc3ba9d7cafa36ddffa"
      ]
    },
    {
      "cell_type": "code",
      "metadata": {
        "id": "uO6dHLgUf1v4",
        "colab": {
          "base_uri": "https://localhost:8080/"
        },
        "outputId": "7637fa56-d347-4da1-8707-00b9ccc55206"
      },
      "source": [
        "pip install -q optuna"
      ],
      "execution_count": null,
      "outputs": [
        {
          "output_type": "stream",
          "text": [
            "Collecting optuna\n",
            "\u001b[?25l  Downloading https://files.pythonhosted.org/packages/2b/21/d13081805e1e1afc71f5bb743ece324c8bd576237c51b899ecb38a717502/optuna-2.7.0-py3-none-any.whl (293kB)\n",
            "\u001b[K     |████████████████████████████████| 296kB 21.4MB/s \n",
            "\u001b[?25hRequirement already satisfied: scipy!=1.4.0 in /usr/local/lib/python3.7/dist-packages (from optuna) (1.4.1)\n",
            "Collecting alembic\n",
            "\u001b[?25l  Downloading https://files.pythonhosted.org/packages/72/a4/97eb6273839655cac14947986fa7a5935350fcfd4fff872e9654264c82d8/alembic-1.5.8-py2.py3-none-any.whl (159kB)\n",
            "\u001b[K     |████████████████████████████████| 163kB 40.5MB/s \n",
            "\u001b[?25hRequirement already satisfied: numpy in /usr/local/lib/python3.7/dist-packages (from optuna) (1.19.5)\n",
            "Collecting colorlog\n",
            "  Downloading https://files.pythonhosted.org/packages/32/e6/e9ddc6fa1104fda718338b341e4b3dc31cd8039ab29e52fc73b508515361/colorlog-5.0.1-py2.py3-none-any.whl\n",
            "Requirement already satisfied: tqdm in /usr/local/lib/python3.7/dist-packages (from optuna) (4.41.1)\n",
            "Collecting cmaes>=0.8.2\n",
            "  Downloading https://files.pythonhosted.org/packages/01/1f/43b01223a0366171f474320c6e966c39a11587287f098a5f09809b45e05f/cmaes-0.8.2-py3-none-any.whl\n",
            "Requirement already satisfied: packaging>=20.0 in /usr/local/lib/python3.7/dist-packages (from optuna) (20.9)\n",
            "Collecting cliff\n",
            "\u001b[?25l  Downloading https://files.pythonhosted.org/packages/a2/d6/7d9acb68a77acd140be7fececb7f2701b2a29d2da9c54184cb8f93509590/cliff-3.7.0-py3-none-any.whl (80kB)\n",
            "\u001b[K     |████████████████████████████████| 81kB 9.1MB/s \n",
            "\u001b[?25hRequirement already satisfied: sqlalchemy>=1.1.0 in /usr/local/lib/python3.7/dist-packages (from optuna) (1.4.7)\n",
            "Collecting python-editor>=0.3\n",
            "  Downloading https://files.pythonhosted.org/packages/c6/d3/201fc3abe391bbae6606e6f1d598c15d367033332bd54352b12f35513717/python_editor-1.0.4-py3-none-any.whl\n",
            "Collecting Mako\n",
            "\u001b[?25l  Downloading https://files.pythonhosted.org/packages/f3/54/dbc07fbb20865d3b78fdb7cf7fa713e2cba4f87f71100074ef2dc9f9d1f7/Mako-1.1.4-py2.py3-none-any.whl (75kB)\n",
            "\u001b[K     |████████████████████████████████| 81kB 8.9MB/s \n",
            "\u001b[?25hRequirement already satisfied: python-dateutil in /usr/local/lib/python3.7/dist-packages (from alembic->optuna) (2.8.1)\n",
            "Requirement already satisfied: pyparsing>=2.0.2 in /usr/local/lib/python3.7/dist-packages (from packaging>=20.0->optuna) (2.4.7)\n",
            "Collecting cmd2>=1.0.0\n",
            "\u001b[?25l  Downloading https://files.pythonhosted.org/packages/15/8b/15061b32332bb35ea2a2f6263d0f616779d576e82739ec8e7fcf3c94abf5/cmd2-1.5.0-py3-none-any.whl (133kB)\n",
            "\u001b[K     |████████████████████████████████| 143kB 35.6MB/s \n",
            "\u001b[?25hCollecting stevedore>=2.0.1\n",
            "\u001b[?25l  Downloading https://files.pythonhosted.org/packages/d4/49/b602307aeac3df3384ff1fcd05da9c0376c622a6c48bb5325f28ab165b57/stevedore-3.3.0-py3-none-any.whl (49kB)\n",
            "\u001b[K     |████████████████████████████████| 51kB 4.9MB/s \n",
            "\u001b[?25hRequirement already satisfied: PrettyTable>=0.7.2 in /usr/local/lib/python3.7/dist-packages (from cliff->optuna) (2.1.0)\n",
            "Requirement already satisfied: PyYAML>=3.12 in /usr/local/lib/python3.7/dist-packages (from cliff->optuna) (3.13)\n",
            "Collecting pbr!=2.1.0,>=2.0.0\n",
            "\u001b[?25l  Downloading https://files.pythonhosted.org/packages/18/e0/1d4702dd81121d04a477c272d47ee5b6bc970d1a0990b11befa275c55cf2/pbr-5.6.0-py2.py3-none-any.whl (111kB)\n",
            "\u001b[K     |████████████████████████████████| 112kB 52.4MB/s \n",
            "\u001b[?25hRequirement already satisfied: importlib-metadata; python_version < \"3.8\" in /usr/local/lib/python3.7/dist-packages (from sqlalchemy>=1.1.0->optuna) (3.10.1)\n",
            "Requirement already satisfied: greenlet!=0.4.17; python_version >= \"3\" in /usr/local/lib/python3.7/dist-packages (from sqlalchemy>=1.1.0->optuna) (1.0.0)\n",
            "Requirement already satisfied: MarkupSafe>=0.9.2 in /usr/local/lib/python3.7/dist-packages (from Mako->alembic->optuna) (1.1.1)\n",
            "Requirement already satisfied: six>=1.5 in /usr/local/lib/python3.7/dist-packages (from python-dateutil->alembic->optuna) (1.15.0)\n",
            "Requirement already satisfied: wcwidth>=0.1.7 in /usr/local/lib/python3.7/dist-packages (from cmd2>=1.0.0->cliff->optuna) (0.2.5)\n",
            "Collecting pyperclip>=1.6\n",
            "  Downloading https://files.pythonhosted.org/packages/a7/2c/4c64579f847bd5d539803c8b909e54ba087a79d01bb3aba433a95879a6c5/pyperclip-1.8.2.tar.gz\n",
            "Requirement already satisfied: attrs>=16.3.0 in /usr/local/lib/python3.7/dist-packages (from cmd2>=1.0.0->cliff->optuna) (20.3.0)\n",
            "Collecting colorama>=0.3.7\n",
            "  Downloading https://files.pythonhosted.org/packages/44/98/5b86278fbbf250d239ae0ecb724f8572af1c91f4a11edf4d36a206189440/colorama-0.4.4-py2.py3-none-any.whl\n",
            "Requirement already satisfied: zipp>=0.5 in /usr/local/lib/python3.7/dist-packages (from importlib-metadata; python_version < \"3.8\"->sqlalchemy>=1.1.0->optuna) (3.4.1)\n",
            "Requirement already satisfied: typing-extensions>=3.6.4; python_version < \"3.8\" in /usr/local/lib/python3.7/dist-packages (from importlib-metadata; python_version < \"3.8\"->sqlalchemy>=1.1.0->optuna) (3.7.4.3)\n",
            "Building wheels for collected packages: pyperclip\n",
            "  Building wheel for pyperclip (setup.py) ... \u001b[?25l\u001b[?25hdone\n",
            "  Created wheel for pyperclip: filename=pyperclip-1.8.2-cp37-none-any.whl size=11107 sha256=e5e8b05909f14e12a34f7fe84c5da58e3a6dfbce8f692b19842ecc0946be039a\n",
            "  Stored in directory: /root/.cache/pip/wheels/25/af/b8/3407109267803f4015e1ee2ff23be0c8c19ce4008665931ee1\n",
            "Successfully built pyperclip\n",
            "Installing collected packages: python-editor, Mako, alembic, colorlog, cmaes, pyperclip, colorama, cmd2, pbr, stevedore, cliff, optuna\n",
            "Successfully installed Mako-1.1.4 alembic-1.5.8 cliff-3.7.0 cmaes-0.8.2 cmd2-1.5.0 colorama-0.4.4 colorlog-5.0.1 optuna-2.7.0 pbr-5.6.0 pyperclip-1.8.2 python-editor-1.0.4 stevedore-3.3.0\n"
          ],
          "name": "stdout"
        }
      ]
    },
    {
      "cell_type": "code",
      "metadata": {
        "id": "3TciEfFRfwvL",
        "colab": {
          "base_uri": "https://localhost:8080/"
        },
        "outputId": "7dbbae26-e109-4fa7-d598-4a3be60a0223"
      },
      "source": [
        "import optuna\n",
        "\n",
        "def objective(trial):\n",
        "    x = trial.suggest_uniform('x', -10, 10)\n",
        "    score = (x - 2) ** 2\n",
        "    print('x: %1.3f, score: %1.3f' % (x, score))\n",
        "    return score\n",
        "\n",
        "study = optuna.create_study()\n",
        "study.optimize(objective, n_trials=100)"
      ],
      "execution_count": null,
      "outputs": [
        {
          "output_type": "stream",
          "text": [
            "\u001b[32m[I 2021-04-26 23:24:35,437]\u001b[0m A new study created in memory with name: no-name-42130fd7-dfb4-4c9c-aca9-34c1a2f02961\u001b[0m\n",
            "\u001b[32m[I 2021-04-26 23:24:35,440]\u001b[0m Trial 0 finished with value: 18.04366438368648 and parameters: {'x': -2.2477834671374763}. Best is trial 0 with value: 18.04366438368648.\u001b[0m\n",
            "\u001b[32m[I 2021-04-26 23:24:35,443]\u001b[0m Trial 1 finished with value: 18.234390266323796 and parameters: {'x': 6.270174500687741}. Best is trial 0 with value: 18.04366438368648.\u001b[0m\n",
            "\u001b[32m[I 2021-04-26 23:24:35,450]\u001b[0m Trial 2 finished with value: 0.5801086758257773 and parameters: {'x': 2.761648656419597}. Best is trial 2 with value: 0.5801086758257773.\u001b[0m\n",
            "\u001b[32m[I 2021-04-26 23:24:35,455]\u001b[0m Trial 3 finished with value: 54.62736917957596 and parameters: {'x': -5.391033025198572}. Best is trial 2 with value: 0.5801086758257773.\u001b[0m\n",
            "\u001b[32m[I 2021-04-26 23:24:35,458]\u001b[0m Trial 4 finished with value: 20.741457219215214 and parameters: {'x': -2.5542790010291654}. Best is trial 2 with value: 0.5801086758257773.\u001b[0m\n",
            "\u001b[32m[I 2021-04-26 23:24:35,462]\u001b[0m Trial 5 finished with value: 15.88191791020602 and parameters: {'x': 5.985212404653737}. Best is trial 2 with value: 0.5801086758257773.\u001b[0m\n",
            "\u001b[32m[I 2021-04-26 23:24:35,469]\u001b[0m Trial 6 finished with value: 37.616824921474375 and parameters: {'x': 8.133255654338434}. Best is trial 2 with value: 0.5801086758257773.\u001b[0m\n",
            "\u001b[32m[I 2021-04-26 23:24:35,471]\u001b[0m Trial 7 finished with value: 0.03704660146955319 and parameters: {'x': 2.19247493725042}. Best is trial 7 with value: 0.03704660146955319.\u001b[0m\n",
            "\u001b[32m[I 2021-04-26 23:24:35,474]\u001b[0m Trial 8 finished with value: 8.980733952320112 and parameters: {'x': -0.9967872717829191}. Best is trial 7 with value: 0.03704660146955319.\u001b[0m\n",
            "\u001b[32m[I 2021-04-26 23:24:35,476]\u001b[0m Trial 9 finished with value: 0.10298732638178598 and parameters: {'x': 1.6790836146567365}. Best is trial 7 with value: 0.03704660146955319.\u001b[0m\n",
            "\u001b[32m[I 2021-04-26 23:24:35,481]\u001b[0m Trial 10 finished with value: 90.866910814091 and parameters: {'x': -7.532413692978867}. Best is trial 7 with value: 0.03704660146955319.\u001b[0m\n",
            "\u001b[32m[I 2021-04-26 23:24:35,486]\u001b[0m Trial 11 finished with value: 0.49749598437639897 and parameters: {'x': 2.705333952377453}. Best is trial 7 with value: 0.03704660146955319.\u001b[0m\n",
            "\u001b[32m[I 2021-04-26 23:24:35,496]\u001b[0m Trial 12 finished with value: 0.058555565762608064 and parameters: {'x': 2.241982573262225}. Best is trial 7 with value: 0.03704660146955319.\u001b[0m\n",
            "\u001b[32m[I 2021-04-26 23:24:35,501]\u001b[0m Trial 13 finished with value: 6.215128163976039 and parameters: {'x': 4.493015877200953}. Best is trial 7 with value: 0.03704660146955319.\u001b[0m\n",
            "\u001b[32m[I 2021-04-26 23:24:35,506]\u001b[0m Trial 14 finished with value: 60.51744081697805 and parameters: {'x': 9.779295650441501}. Best is trial 7 with value: 0.03704660146955319.\u001b[0m\n",
            "\u001b[32m[I 2021-04-26 23:24:35,514]\u001b[0m Trial 15 finished with value: 2.2037408617101026 and parameters: {'x': 0.5154997939676456}. Best is trial 7 with value: 0.03704660146955319.\u001b[0m\n",
            "\u001b[32m[I 2021-04-26 23:24:35,523]\u001b[0m Trial 16 finished with value: 41.487783392901854 and parameters: {'x': -4.441101100968829}. Best is trial 7 with value: 0.03704660146955319.\u001b[0m\n",
            "\u001b[32m[I 2021-04-26 23:24:35,529]\u001b[0m Trial 17 finished with value: 4.203533967056259 and parameters: {'x': 4.0502521715770134}. Best is trial 7 with value: 0.03704660146955319.\u001b[0m\n",
            "\u001b[32m[I 2021-04-26 23:24:35,534]\u001b[0m Trial 18 finished with value: 4.249590078196322 and parameters: {'x': -0.06145338977050896}. Best is trial 7 with value: 0.03704660146955319.\u001b[0m\n",
            "\u001b[32m[I 2021-04-26 23:24:35,540]\u001b[0m Trial 19 finished with value: 29.47778580837615 and parameters: {'x': 7.42934487837862}. Best is trial 7 with value: 0.03704660146955319.\u001b[0m\n",
            "\u001b[32m[I 2021-04-26 23:24:35,549]\u001b[0m Trial 20 finished with value: 6.653164697566975 and parameters: {'x': 4.5793729271989685}. Best is trial 7 with value: 0.03704660146955319.\u001b[0m\n",
            "\u001b[32m[I 2021-04-26 23:24:35,555]\u001b[0m Trial 21 finished with value: 0.6954495955717777 and parameters: {'x': 1.1660637940634921}. Best is trial 7 with value: 0.03704660146955319.\u001b[0m\n",
            "\u001b[32m[I 2021-04-26 23:24:35,560]\u001b[0m Trial 22 finished with value: 0.26392913867224593 and parameters: {'x': 1.486259658317311}. Best is trial 7 with value: 0.03704660146955319.\u001b[0m\n",
            "\u001b[32m[I 2021-04-26 23:24:35,569]\u001b[0m Trial 23 finished with value: 0.3243294462829789 and parameters: {'x': 2.569499294365655}. Best is trial 7 with value: 0.03704660146955319.\u001b[0m\n",
            "\u001b[32m[I 2021-04-26 23:24:35,583]\u001b[0m Trial 24 finished with value: 7.5868658711179915 and parameters: {'x': -0.7544265957033582}. Best is trial 7 with value: 0.03704660146955319.\u001b[0m\n",
            "\u001b[32m[I 2021-04-26 23:24:35,589]\u001b[0m Trial 25 finished with value: 22.543303190358237 and parameters: {'x': -2.747978853191981}. Best is trial 7 with value: 0.03704660146955319.\u001b[0m\n",
            "\u001b[32m[I 2021-04-26 23:24:35,594]\u001b[0m Trial 26 finished with value: 1.751866900656195 and parameters: {'x': 3.323581089565802}. Best is trial 7 with value: 0.03704660146955319.\u001b[0m\n",
            "\u001b[32m[I 2021-04-26 23:24:35,601]\u001b[0m Trial 27 finished with value: 0.19286187717982817 and parameters: {'x': 1.560839576942744}. Best is trial 7 with value: 0.03704660146955319.\u001b[0m\n",
            "\u001b[32m[I 2021-04-26 23:24:35,608]\u001b[0m Trial 28 finished with value: 11.850154960211048 and parameters: {'x': 5.4424054032334785}. Best is trial 7 with value: 0.03704660146955319.\u001b[0m\n",
            "\u001b[32m[I 2021-04-26 23:24:35,613]\u001b[0m Trial 29 finished with value: 14.319042734590184 and parameters: {'x': -1.784051100948583}. Best is trial 7 with value: 0.03704660146955319.\u001b[0m\n",
            "\u001b[32m[I 2021-04-26 23:24:35,618]\u001b[0m Trial 30 finished with value: 39.717484204583386 and parameters: {'x': -4.302180908588977}. Best is trial 7 with value: 0.03704660146955319.\u001b[0m\n",
            "\u001b[32m[I 2021-04-26 23:24:35,626]\u001b[0m Trial 31 finished with value: 0.005837430490919992 and parameters: {'x': 1.9235969209329886}. Best is trial 31 with value: 0.005837430490919992.\u001b[0m\n",
            "\u001b[32m[I 2021-04-26 23:24:35,631]\u001b[0m Trial 32 finished with value: 0.11068161784886099 and parameters: {'x': 1.6673115303337656}. Best is trial 31 with value: 0.005837430490919992.\u001b[0m\n",
            "\u001b[32m[I 2021-04-26 23:24:35,637]\u001b[0m Trial 33 finished with value: 5.079930013470355 and parameters: {'x': -0.25387000811279137}. Best is trial 31 with value: 0.005837430490919992.\u001b[0m\n"
          ],
          "name": "stderr"
        },
        {
          "output_type": "stream",
          "text": [
            "x: -2.248, score: 18.044\n",
            "x: 6.270, score: 18.234\n",
            "x: 2.762, score: 0.580\n",
            "x: -5.391, score: 54.627\n",
            "x: -2.554, score: 20.741\n",
            "x: 5.985, score: 15.882\n",
            "x: 8.133, score: 37.617\n",
            "x: 2.192, score: 0.037\n",
            "x: -0.997, score: 8.981\n",
            "x: 1.679, score: 0.103\n",
            "x: -7.532, score: 90.867\n",
            "x: 2.705, score: 0.497\n",
            "x: 2.242, score: 0.059\n",
            "x: 4.493, score: 6.215\n",
            "x: 9.779, score: 60.517\n",
            "x: 0.515, score: 2.204\n",
            "x: -4.441, score: 41.488\n",
            "x: 4.050, score: 4.204\n",
            "x: -0.061, score: 4.250\n",
            "x: 7.429, score: 29.478\n",
            "x: 4.579, score: 6.653\n",
            "x: 1.166, score: 0.695\n",
            "x: 1.486, score: 0.264\n",
            "x: 2.569, score: 0.324\n",
            "x: -0.754, score: 7.587\n",
            "x: -2.748, score: 22.543\n",
            "x: 3.324, score: 1.752\n",
            "x: 1.561, score: 0.193\n",
            "x: 5.442, score: 11.850\n",
            "x: -1.784, score: 14.319\n",
            "x: -4.302, score: 39.717\n",
            "x: 1.924, score: 0.006\n",
            "x: 1.667, score: 0.111\n",
            "x: -0.254, score: 5.080\n"
          ],
          "name": "stdout"
        },
        {
          "output_type": "stream",
          "text": [
            "\u001b[32m[I 2021-04-26 23:24:35,644]\u001b[0m Trial 34 finished with value: 1.950193341816375 and parameters: {'x': 3.396493230136249}. Best is trial 31 with value: 0.005837430490919992.\u001b[0m\n",
            "\u001b[32m[I 2021-04-26 23:24:35,654]\u001b[0m Trial 35 finished with value: 0.14457288052116885 and parameters: {'x': 2.3802274063257}. Best is trial 31 with value: 0.005837430490919992.\u001b[0m\n",
            "\u001b[32m[I 2021-04-26 23:24:35,659]\u001b[0m Trial 36 finished with value: 25.184426895060692 and parameters: {'x': 7.018408801110238}. Best is trial 31 with value: 0.005837430490919992.\u001b[0m\n",
            "\u001b[32m[I 2021-04-26 23:24:35,664]\u001b[0m Trial 37 finished with value: 1.1313843168984228 and parameters: {'x': 0.9363344901246337}. Best is trial 31 with value: 0.005837430490919992.\u001b[0m\n",
            "\u001b[32m[I 2021-04-26 23:24:35,676]\u001b[0m Trial 38 finished with value: 11.82226486440329 and parameters: {'x': 5.438352056494985}. Best is trial 31 with value: 0.005837430490919992.\u001b[0m\n",
            "\u001b[32m[I 2021-04-26 23:24:35,682]\u001b[0m Trial 39 finished with value: 15.137751612101322 and parameters: {'x': -1.890726360475807}. Best is trial 31 with value: 0.005837430490919992.\u001b[0m\n",
            "\u001b[32m[I 2021-04-26 23:24:35,686]\u001b[0m Trial 40 finished with value: 51.6590562032834 and parameters: {'x': 9.187423474603635}. Best is trial 31 with value: 0.005837430490919992.\u001b[0m\n",
            "\u001b[32m[I 2021-04-26 23:24:35,695]\u001b[0m Trial 41 finished with value: 0.13984492499571138 and parameters: {'x': 1.6260415464310087}. Best is trial 31 with value: 0.005837430490919992.\u001b[0m\n",
            "\u001b[32m[I 2021-04-26 23:24:35,708]\u001b[0m Trial 42 finished with value: 3.0092293654051816 and parameters: {'x': 3.734713049874584}. Best is trial 31 with value: 0.005837430490919992.\u001b[0m\n",
            "\u001b[32m[I 2021-04-26 23:24:35,713]\u001b[0m Trial 43 finished with value: 0.024924564392165487 and parameters: {'x': 2.157875154448588}. Best is trial 31 with value: 0.005837430490919992.\u001b[0m\n",
            "\u001b[32m[I 2021-04-26 23:24:35,721]\u001b[0m Trial 44 finished with value: 2.9553464752728775 and parameters: {'x': 0.2808878817037914}. Best is trial 31 with value: 0.005837430490919992.\u001b[0m\n",
            "\u001b[32m[I 2021-04-26 23:24:35,725]\u001b[0m Trial 45 finished with value: 0.09421751224829523 and parameters: {'x': 2.306948712732755}. Best is trial 31 with value: 0.005837430490919992.\u001b[0m\n",
            "\u001b[32m[I 2021-04-26 23:24:35,730]\u001b[0m Trial 46 finished with value: 0.2299120916077506 and parameters: {'x': 2.4794914927376195}. Best is trial 31 with value: 0.005837430490919992.\u001b[0m\n",
            "\u001b[32m[I 2021-04-26 23:24:35,739]\u001b[0m Trial 47 finished with value: 7.946079867376799 and parameters: {'x': 4.818879186374755}. Best is trial 31 with value: 0.005837430490919992.\u001b[0m\n",
            "\u001b[32m[I 2021-04-26 23:24:35,742]\u001b[0m Trial 48 finished with value: 0.9030692620680695 and parameters: {'x': 2.9502995643838155}. Best is trial 31 with value: 0.005837430490919992.\u001b[0m\n",
            "\u001b[32m[I 2021-04-26 23:24:35,754]\u001b[0m Trial 49 finished with value: 2.4924270962518933 and parameters: {'x': 0.42125774863282595}. Best is trial 31 with value: 0.005837430490919992.\u001b[0m\n",
            "\u001b[32m[I 2021-04-26 23:24:35,764]\u001b[0m Trial 50 finished with value: 16.94841283148529 and parameters: {'x': 6.116845009407725}. Best is trial 31 with value: 0.005837430490919992.\u001b[0m\n",
            "\u001b[32m[I 2021-04-26 23:24:35,770]\u001b[0m Trial 51 finished with value: 9.139544714587746 and parameters: {'x': -1.023167993113804}. Best is trial 31 with value: 0.005837430490919992.\u001b[0m\n",
            "\u001b[32m[I 2021-04-26 23:24:35,777]\u001b[0m Trial 52 finished with value: 0.025302336316816366 and parameters: {'x': 2.1590670811853174}. Best is trial 31 with value: 0.005837430490919992.\u001b[0m\n",
            "\u001b[32m[I 2021-04-26 23:24:35,783]\u001b[0m Trial 53 finished with value: 0.037760581136065785 and parameters: {'x': 2.19432082013018}. Best is trial 31 with value: 0.005837430490919992.\u001b[0m\n",
            "\u001b[32m[I 2021-04-26 23:24:35,790]\u001b[0m Trial 54 finished with value: 6.091573112277811 and parameters: {'x': 4.468111243902473}. Best is trial 31 with value: 0.005837430490919992.\u001b[0m\n",
            "\u001b[32m[I 2021-04-26 23:24:35,796]\u001b[0m Trial 55 finished with value: 2.659467812367028 and parameters: {'x': 3.630787482281805}. Best is trial 31 with value: 0.005837430490919992.\u001b[0m\n",
            "\u001b[32m[I 2021-04-26 23:24:35,801]\u001b[0m Trial 56 finished with value: 0.9255583559535429 and parameters: {'x': 1.0379405652697216}. Best is trial 31 with value: 0.005837430490919992.\u001b[0m\n",
            "\u001b[32m[I 2021-04-26 23:24:35,807]\u001b[0m Trial 57 finished with value: 0.014268525322839976 and parameters: {'x': 2.119450932699749}. Best is trial 31 with value: 0.005837430490919992.\u001b[0m\n",
            "\u001b[32m[I 2021-04-26 23:24:35,814]\u001b[0m Trial 58 finished with value: 119.27410677771356 and parameters: {'x': -8.921268551670797}. Best is trial 31 with value: 0.005837430490919992.\u001b[0m\n",
            "\u001b[32m[I 2021-04-26 23:24:35,823]\u001b[0m Trial 59 finished with value: 6.072324194028147 and parameters: {'x': -0.46420863443583993}. Best is trial 31 with value: 0.005837430490919992.\u001b[0m\n",
            "\u001b[32m[I 2021-04-26 23:24:35,829]\u001b[0m Trial 60 finished with value: 1.3133525450109869 and parameters: {'x': 0.8539840555162477}. Best is trial 31 with value: 0.005837430490919992.\u001b[0m\n",
            "\u001b[32m[I 2021-04-26 23:24:35,842]\u001b[0m Trial 61 finished with value: 0.011351774563709689 and parameters: {'x': 2.1065447068779566}. Best is trial 31 with value: 0.005837430490919992.\u001b[0m\n"
          ],
          "name": "stderr"
        },
        {
          "output_type": "stream",
          "text": [
            "x: 3.396, score: 1.950\n",
            "x: 2.380, score: 0.145\n",
            "x: 7.018, score: 25.184\n",
            "x: 0.936, score: 1.131\n",
            "x: 5.438, score: 11.822\n",
            "x: -1.891, score: 15.138\n",
            "x: 9.187, score: 51.659\n",
            "x: 1.626, score: 0.140\n",
            "x: 3.735, score: 3.009\n",
            "x: 2.158, score: 0.025\n",
            "x: 0.281, score: 2.955\n",
            "x: 2.307, score: 0.094\n",
            "x: 2.479, score: 0.230\n",
            "x: 4.819, score: 7.946\n",
            "x: 2.950, score: 0.903\n",
            "x: 0.421, score: 2.492\n",
            "x: 6.117, score: 16.948\n",
            "x: -1.023, score: 9.140\n",
            "x: 2.159, score: 0.025\n",
            "x: 2.194, score: 0.038\n",
            "x: 4.468, score: 6.092\n",
            "x: 3.631, score: 2.659\n",
            "x: 1.038, score: 0.926\n",
            "x: 2.119, score: 0.014\n",
            "x: -8.921, score: 119.274\n",
            "x: -0.464, score: 6.072\n",
            "x: 0.854, score: 1.313\n",
            "x: 2.107, score: 0.011\n"
          ],
          "name": "stdout"
        },
        {
          "output_type": "stream",
          "text": [
            "\u001b[32m[I 2021-04-26 23:24:35,853]\u001b[0m Trial 62 finished with value: 1.0600951899201112 and parameters: {'x': 3.0296092413727216}. Best is trial 31 with value: 0.005837430490919992.\u001b[0m\n",
            "\u001b[32m[I 2021-04-26 23:24:35,867]\u001b[0m Trial 63 finished with value: 0.033544792825176084 and parameters: {'x': 2.183152375974695}. Best is trial 31 with value: 0.005837430490919992.\u001b[0m\n",
            "\u001b[32m[I 2021-04-26 23:24:35,875]\u001b[0m Trial 64 finished with value: 5.162914961555609 and parameters: {'x': 4.272204867866366}. Best is trial 31 with value: 0.005837430490919992.\u001b[0m\n",
            "\u001b[32m[I 2021-04-26 23:24:35,881]\u001b[0m Trial 65 finished with value: 9.93318574293332e-06 and parameters: {'x': 1.9968483043067369}. Best is trial 65 with value: 9.93318574293332e-06.\u001b[0m\n",
            "\u001b[32m[I 2021-04-26 23:24:35,888]\u001b[0m Trial 66 finished with value: 10.756220085271899 and parameters: {'x': 5.279667679090657}. Best is trial 65 with value: 9.93318574293332e-06.\u001b[0m\n",
            "\u001b[32m[I 2021-04-26 23:24:35,894]\u001b[0m Trial 67 finished with value: 0.08040514527888636 and parameters: {'x': 1.7164419895702356}. Best is trial 65 with value: 9.93318574293332e-06.\u001b[0m\n",
            "\u001b[32m[I 2021-04-26 23:24:35,901]\u001b[0m Trial 68 finished with value: 1.500216621788321 and parameters: {'x': 3.224833303673737}. Best is trial 65 with value: 9.93318574293332e-06.\u001b[0m\n",
            "\u001b[32m[I 2021-04-26 23:24:35,908]\u001b[0m Trial 69 finished with value: 3.31278438709268 and parameters: {'x': 0.1798944022137947}. Best is trial 65 with value: 9.93318574293332e-06.\u001b[0m\n",
            "\u001b[32m[I 2021-04-26 23:24:35,915]\u001b[0m Trial 70 finished with value: 10.846460001478116 and parameters: {'x': -1.2933964233717927}. Best is trial 65 with value: 9.93318574293332e-06.\u001b[0m\n",
            "\u001b[32m[I 2021-04-26 23:24:35,921]\u001b[0m Trial 71 finished with value: 0.0015404543985856843 and parameters: {'x': 2.039248622887761}. Best is trial 65 with value: 9.93318574293332e-06.\u001b[0m\n",
            "\u001b[32m[I 2021-04-26 23:24:35,930]\u001b[0m Trial 72 finished with value: 0.7016653637182089 and parameters: {'x': 2.8376546804729315}. Best is trial 65 with value: 9.93318574293332e-06.\u001b[0m\n",
            "\u001b[32m[I 2021-04-26 23:24:35,937]\u001b[0m Trial 73 finished with value: 0.4947132376214909 and parameters: {'x': 1.2966414586987012}. Best is trial 65 with value: 9.93318574293332e-06.\u001b[0m\n",
            "\u001b[32m[I 2021-04-26 23:24:35,943]\u001b[0m Trial 74 finished with value: 0.05909676542344974 and parameters: {'x': 1.7569017371031834}. Best is trial 65 with value: 9.93318574293332e-06.\u001b[0m\n",
            "\u001b[32m[I 2021-04-26 23:24:35,949]\u001b[0m Trial 75 finished with value: 3.6864243705914075 and parameters: {'x': 3.92000634649769}. Best is trial 65 with value: 9.93318574293332e-06.\u001b[0m\n",
            "\u001b[32m[I 2021-04-26 23:24:35,957]\u001b[0m Trial 76 finished with value: 1.3610438631705553 and parameters: {'x': 0.8333621542352763}. Best is trial 65 with value: 9.93318574293332e-06.\u001b[0m\n",
            "\u001b[32m[I 2021-04-26 23:24:35,964]\u001b[0m Trial 77 finished with value: 0.026787084322952386 and parameters: {'x': 1.8363323968436258}. Best is trial 65 with value: 9.93318574293332e-06.\u001b[0m\n",
            "\u001b[32m[I 2021-04-26 23:24:35,974]\u001b[0m Trial 78 finished with value: 5.363702870062761 and parameters: {'x': -0.31596694062388586}. Best is trial 65 with value: 9.93318574293332e-06.\u001b[0m\n",
            "\u001b[32m[I 2021-04-26 23:24:35,987]\u001b[0m Trial 79 finished with value: 1.8979547764946496 and parameters: {'x': 0.6223372050844047}. Best is trial 65 with value: 9.93318574293332e-06.\u001b[0m\n",
            "\u001b[32m[I 2021-04-26 23:24:36,006]\u001b[0m Trial 80 finished with value: 0.028283691544210097 and parameters: {'x': 1.8318224404261672}. Best is trial 65 with value: 9.93318574293332e-06.\u001b[0m\n",
            "\u001b[32m[I 2021-04-26 23:24:36,016]\u001b[0m Trial 81 finished with value: 0.037467909580245345 and parameters: {'x': 1.8064337075308685}. Best is trial 65 with value: 9.93318574293332e-06.\u001b[0m\n",
            "\u001b[32m[I 2021-04-26 23:24:36,023]\u001b[0m Trial 82 finished with value: 0.4908318857493718 and parameters: {'x': 2.7005939521216065}. Best is trial 65 with value: 9.93318574293332e-06.\u001b[0m\n",
            "\u001b[32m[I 2021-04-26 23:24:36,028]\u001b[0m Trial 83 finished with value: 0.0009981363469610722 and parameters: {'x': 2.0315932959179803}. Best is trial 65 with value: 9.93318574293332e-06.\u001b[0m\n",
            "\u001b[32m[I 2021-04-26 23:24:36,035]\u001b[0m Trial 84 finished with value: 1.835357485757279 and parameters: {'x': 3.3547536623893213}. Best is trial 65 with value: 9.93318574293332e-06.\u001b[0m\n",
            "\u001b[32m[I 2021-04-26 23:24:36,044]\u001b[0m Trial 85 finished with value: 0.797492303836786 and parameters: {'x': 1.106975754059955}. Best is trial 65 with value: 9.93318574293332e-06.\u001b[0m\n"
          ],
          "name": "stderr"
        },
        {
          "output_type": "stream",
          "text": [
            "x: 3.030, score: 1.060\n",
            "x: 2.183, score: 0.034\n",
            "x: 4.272, score: 5.163\n",
            "x: 1.997, score: 0.000\n",
            "x: 5.280, score: 10.756\n",
            "x: 1.716, score: 0.080\n",
            "x: 3.225, score: 1.500\n",
            "x: 0.180, score: 3.313\n",
            "x: -1.293, score: 10.846\n",
            "x: 2.039, score: 0.002\n",
            "x: 2.838, score: 0.702\n",
            "x: 1.297, score: 0.495\n",
            "x: 1.757, score: 0.059\n",
            "x: 3.920, score: 3.686\n",
            "x: 0.833, score: 1.361\n",
            "x: 1.836, score: 0.027\n",
            "x: -0.316, score: 5.364\n",
            "x: 0.622, score: 1.898\n",
            "x: 1.832, score: 0.028\n",
            "x: 1.806, score: 0.037\n",
            "x: 2.701, score: 0.491\n",
            "x: 2.032, score: 0.001\n",
            "x: 3.355, score: 1.835\n",
            "x: 1.107, score: 0.797\n"
          ],
          "name": "stdout"
        },
        {
          "output_type": "stream",
          "text": [
            "\u001b[32m[I 2021-04-26 23:24:36,056]\u001b[0m Trial 86 finished with value: 0.009998441103223846 and parameters: {'x': 2.0999922052123257}. Best is trial 65 with value: 9.93318574293332e-06.\u001b[0m\n",
            "\u001b[32m[I 2021-04-26 23:24:36,066]\u001b[0m Trial 87 finished with value: 8.280116410867901 and parameters: {'x': 4.877519141703127}. Best is trial 65 with value: 9.93318574293332e-06.\u001b[0m\n",
            "\u001b[32m[I 2021-04-26 23:24:36,074]\u001b[0m Trial 88 finished with value: 4.306161991949024 and parameters: {'x': 4.075129391616104}. Best is trial 65 with value: 9.93318574293332e-06.\u001b[0m\n",
            "\u001b[32m[I 2021-04-26 23:24:36,082]\u001b[0m Trial 89 finished with value: 0.37276387063994765 and parameters: {'x': 2.6105439137686557}. Best is trial 65 with value: 9.93318574293332e-06.\u001b[0m\n",
            "\u001b[32m[I 2021-04-26 23:24:36,088]\u001b[0m Trial 90 finished with value: 3.849916284745401 and parameters: {'x': 0.03787964570330171}. Best is trial 65 with value: 9.93318574293332e-06.\u001b[0m\n",
            "\u001b[32m[I 2021-04-26 23:24:36,096]\u001b[0m Trial 91 finished with value: 0.018811921335292386 and parameters: {'x': 2.1371565577553344}. Best is trial 65 with value: 9.93318574293332e-06.\u001b[0m\n",
            "\u001b[32m[I 2021-04-26 23:24:36,103]\u001b[0m Trial 92 finished with value: 0.4149264280367932 and parameters: {'x': 1.3558521691127159}. Best is trial 65 with value: 9.93318574293332e-06.\u001b[0m\n",
            "\u001b[32m[I 2021-04-26 23:24:36,111]\u001b[0m Trial 93 finished with value: 0.02649968336046767 and parameters: {'x': 2.1627872334074993}. Best is trial 65 with value: 9.93318574293332e-06.\u001b[0m\n",
            "\u001b[32m[I 2021-04-26 23:24:36,119]\u001b[0m Trial 94 finished with value: 2.4571066590733324 and parameters: {'x': 3.567516079366758}. Best is trial 65 with value: 9.93318574293332e-06.\u001b[0m\n",
            "\u001b[32m[I 2021-04-26 23:24:36,127]\u001b[0m Trial 95 finished with value: 1.080278719665139 and parameters: {'x': 3.039364574951994}. Best is trial 65 with value: 9.93318574293332e-06.\u001b[0m\n",
            "\u001b[32m[I 2021-04-26 23:24:36,135]\u001b[0m Trial 96 finished with value: 2.3123623526072126 and parameters: {'x': 0.47935462628290204}. Best is trial 65 with value: 9.93318574293332e-06.\u001b[0m\n",
            "\u001b[32m[I 2021-04-26 23:24:36,142]\u001b[0m Trial 97 finished with value: 0.1592973243357254 and parameters: {'x': 2.39912068893472}. Best is trial 65 with value: 9.93318574293332e-06.\u001b[0m\n",
            "\u001b[32m[I 2021-04-26 23:24:36,151]\u001b[0m Trial 98 finished with value: 0.6593741134229651 and parameters: {'x': 1.187981457463584}. Best is trial 65 with value: 9.93318574293332e-06.\u001b[0m\n",
            "\u001b[32m[I 2021-04-26 23:24:36,158]\u001b[0m Trial 99 finished with value: 0.010980350574096426 and parameters: {'x': 2.1047871679839494}. Best is trial 65 with value: 9.93318574293332e-06.\u001b[0m\n"
          ],
          "name": "stderr"
        },
        {
          "output_type": "stream",
          "text": [
            "x: 2.100, score: 0.010\n",
            "x: 4.878, score: 8.280\n",
            "x: 4.075, score: 4.306\n",
            "x: 2.611, score: 0.373\n",
            "x: 0.038, score: 3.850\n",
            "x: 2.137, score: 0.019\n",
            "x: 1.356, score: 0.415\n",
            "x: 2.163, score: 0.026\n",
            "x: 3.568, score: 2.457\n",
            "x: 3.039, score: 1.080\n",
            "x: 0.479, score: 2.312\n",
            "x: 2.399, score: 0.159\n",
            "x: 1.188, score: 0.659\n",
            "x: 2.105, score: 0.011\n"
          ],
          "name": "stdout"
        }
      ]
    },
    {
      "cell_type": "code",
      "metadata": {
        "id": "-jSV_KkQf0lm",
        "colab": {
          "base_uri": "https://localhost:8080/"
        },
        "outputId": "f604a4df-8319-47dd-fc95-1d272c12d85b"
      },
      "source": [
        "objective(optuna.trial.FixedTrial({'x': 1}))"
      ],
      "execution_count": null,
      "outputs": [
        {
          "output_type": "stream",
          "text": [
            "x: 1.000, score: 1.000\n"
          ],
          "name": "stdout"
        },
        {
          "output_type": "execute_result",
          "data": {
            "text/plain": [
              "1"
            ]
          },
          "metadata": {
            "tags": []
          },
          "execution_count": 4
        }
      ]
    },
    {
      "cell_type": "code",
      "metadata": {
        "id": "j_MB2l_LgAQI",
        "colab": {
          "base_uri": "https://localhost:8080/"
        },
        "outputId": "385f88af-8051-4171-e49e-fb03b1bee3a9"
      },
      "source": [
        "study.best_params # best_valueを出したときのparameter"
      ],
      "execution_count": null,
      "outputs": [
        {
          "output_type": "execute_result",
          "data": {
            "text/plain": [
              "{'x': 1.9968483043067369}"
            ]
          },
          "metadata": {
            "tags": []
          },
          "execution_count": 5
        }
      ]
    },
    {
      "cell_type": "code",
      "metadata": {
        "id": "9rarWLzXgHG2",
        "colab": {
          "base_uri": "https://localhost:8080/"
        },
        "outputId": "d6884f8f-9602-4332-eccb-2145883b619b"
      },
      "source": [
        "study.best_value # 一番良いスコア"
      ],
      "execution_count": null,
      "outputs": [
        {
          "output_type": "execute_result",
          "data": {
            "text/plain": [
              "9.93318574293332e-06"
            ]
          },
          "metadata": {
            "tags": []
          },
          "execution_count": 6
        }
      ]
    },
    {
      "cell_type": "code",
      "metadata": {
        "id": "fTQD7DtggJkb",
        "colab": {
          "base_uri": "https://localhost:8080/"
        },
        "outputId": "e39b490f-ec50-4679-cd92-a6b0a81f4257"
      },
      "source": [
        "study.best_trial #best_valueを出したときの試行内容"
      ],
      "execution_count": null,
      "outputs": [
        {
          "output_type": "execute_result",
          "data": {
            "text/plain": [
              "FrozenTrial(number=65, values=[9.93318574293332e-06], datetime_start=datetime.datetime(2021, 4, 26, 23, 24, 35, 877553), datetime_complete=datetime.datetime(2021, 4, 26, 23, 24, 35, 880886), params={'x': 1.9968483043067369}, distributions={'x': UniformDistribution(high=10.0, low=-10.0)}, user_attrs={}, system_attrs={}, intermediate_values={}, trial_id=65, state=TrialState.COMPLETE, value=None)"
            ]
          },
          "metadata": {
            "tags": []
          },
          "execution_count": 7
        }
      ]
    },
    {
      "cell_type": "code",
      "metadata": {
        "id": "OygeDgnbgL8m",
        "colab": {
          "base_uri": "https://localhost:8080/"
        },
        "outputId": "3bdfa482-a339-4de3-872b-b820791f154e"
      },
      "source": [
        "type(study.trials) # 試行結果はlist型で入ってます"
      ],
      "execution_count": null,
      "outputs": [
        {
          "output_type": "execute_result",
          "data": {
            "text/plain": [
              "list"
            ]
          },
          "metadata": {
            "tags": []
          },
          "execution_count": 8
        }
      ]
    },
    {
      "cell_type": "code",
      "metadata": {
        "id": "N9Ed2kf0gPfe",
        "colab": {
          "base_uri": "https://localhost:8080/"
        },
        "outputId": "51e01db5-75db-41fa-d942-39c5e2a62ec2"
      },
      "source": [
        "study.trials[0] # 1回目の試行結果"
      ],
      "execution_count": null,
      "outputs": [
        {
          "output_type": "execute_result",
          "data": {
            "text/plain": [
              "FrozenTrial(number=0, values=[18.04366438368648], datetime_start=datetime.datetime(2021, 4, 26, 23, 24, 35, 439831), datetime_complete=datetime.datetime(2021, 4, 26, 23, 24, 35, 440480), params={'x': -2.2477834671374763}, distributions={'x': UniformDistribution(high=10.0, low=-10.0)}, user_attrs={}, system_attrs={}, intermediate_values={}, trial_id=0, state=TrialState.COMPLETE, value=None)"
            ]
          },
          "metadata": {
            "tags": []
          },
          "execution_count": 9
        }
      ]
    },
    {
      "cell_type": "code",
      "metadata": {
        "id": "kvZsGsQ8gRgx",
        "colab": {
          "base_uri": "https://localhost:8080/"
        },
        "outputId": "b06ed228-6b4d-46c9-e5d3-2bfac64877a7"
      },
      "source": [
        "study.trials[0].value # 1回目の試行でのスコア"
      ],
      "execution_count": null,
      "outputs": [
        {
          "output_type": "execute_result",
          "data": {
            "text/plain": [
              "18.04366438368648"
            ]
          },
          "metadata": {
            "tags": []
          },
          "execution_count": 10
        }
      ]
    },
    {
      "cell_type": "code",
      "metadata": {
        "id": "dWzwQW2AgTcG",
        "colab": {
          "base_uri": "https://localhost:8080/"
        },
        "outputId": "7732069a-51c9-4a53-fbcf-062c00a29e31"
      },
      "source": [
        "study.trials[0].datetime_start # 開始時間"
      ],
      "execution_count": null,
      "outputs": [
        {
          "output_type": "execute_result",
          "data": {
            "text/plain": [
              "datetime.datetime(2021, 4, 26, 23, 24, 35, 439831)"
            ]
          },
          "metadata": {
            "tags": []
          },
          "execution_count": 11
        }
      ]
    },
    {
      "cell_type": "code",
      "metadata": {
        "id": "17QLWKMjgYFt",
        "colab": {
          "base_uri": "https://localhost:8080/"
        },
        "outputId": "1e916ad2-e375-41cb-dfd8-2d97e0553e94"
      },
      "source": [
        "study.trials[0].datetime_complete # 終了時間"
      ],
      "execution_count": null,
      "outputs": [
        {
          "output_type": "execute_result",
          "data": {
            "text/plain": [
              "datetime.datetime(2021, 4, 26, 23, 24, 35, 440480)"
            ]
          },
          "metadata": {
            "tags": []
          },
          "execution_count": 12
        }
      ]
    },
    {
      "cell_type": "code",
      "metadata": {
        "id": "kTKzrYWegbL4",
        "colab": {
          "base_uri": "https://localhost:8080/",
          "height": 170
        },
        "outputId": "4e50a418-1cf2-43dd-f36f-25e1341cf6c3"
      },
      "source": [
        "study.trials[0].params_in_internal_repr # 1回目の試行のparameter"
      ],
      "execution_count": null,
      "outputs": [
        {
          "output_type": "error",
          "ename": "AttributeError",
          "evalue": "ignored",
          "traceback": [
            "\u001b[0;31m---------------------------------------------------------------------------\u001b[0m",
            "\u001b[0;31mAttributeError\u001b[0m                            Traceback (most recent call last)",
            "\u001b[0;32m<ipython-input-13-1abf8015815c>\u001b[0m in \u001b[0;36m<module>\u001b[0;34m()\u001b[0m\n\u001b[0;32m----> 1\u001b[0;31m \u001b[0mstudy\u001b[0m\u001b[0;34m.\u001b[0m\u001b[0mtrials\u001b[0m\u001b[0;34m[\u001b[0m\u001b[0;36m0\u001b[0m\u001b[0;34m]\u001b[0m\u001b[0;34m.\u001b[0m\u001b[0mparams_in_internal_repr\u001b[0m \u001b[0;31m# 1回目の試行のparameter\u001b[0m\u001b[0;34m\u001b[0m\u001b[0;34m\u001b[0m\u001b[0m\n\u001b[0m",
            "\u001b[0;31mAttributeError\u001b[0m: 'FrozenTrial' object has no attribute 'params_in_internal_repr'"
          ]
        }
      ]
    },
    {
      "cell_type": "code",
      "metadata": {
        "id": "vaPAGZ5MgdLD"
      },
      "source": [
        "def objective(trial):\n",
        "    # Categorical parameter\n",
        "    optimizer = trial.suggest_categorical('optimizer', ['MomentumSGD', 'Adam'])\n",
        "\n",
        "    # Int parameter\n",
        "    num_layers = trial.suggest_int('num_layers', 1, 3)\n",
        "\n",
        "    # Uniform parameter\n",
        "    dropout_rate = trial.suggest_uniform('dropout_rate', 0.0, 1.0)\n",
        "\n",
        "    # Loguniform parameter\n",
        "    learning_rate = trial.suggest_loguniform('learning_rate', 1e-5, 1e-2)\n",
        "\n",
        "    # Discrete-uniform parameter\n",
        "    drop_path_rate = trial.suggest_discrete_uniform('drop_path_rate', 0.0, 1.0, 0.1)"
      ],
      "execution_count": null,
      "outputs": []
    },
    {
      "cell_type": "code",
      "metadata": {
        "id": "FqezIZLyguae"
      },
      "source": [
        "with open(\"optuna_study.db\", \"w\") as f:\n",
        "    f.write(\"\")"
      ],
      "execution_count": null,
      "outputs": []
    },
    {
      "cell_type": "code",
      "metadata": {
        "id": "VYNwBrpXgiwM",
        "colab": {
          "base_uri": "https://localhost:8080/",
          "height": 1000
        },
        "outputId": "71a2dc34-c3c4-422c-b6fa-ac5381699948"
      },
      "source": [
        "study_name = 'example-study'\n",
        "study = optuna.create_study(study_name=study_name,\n",
        "                            storage='optuna_study.db',\n",
        "                            load_if_exists=True)\n",
        "study.optimize(objective, n_trials=100)"
      ],
      "execution_count": null,
      "outputs": [
        {
          "output_type": "error",
          "ename": "ArgumentError",
          "evalue": "ignored",
          "traceback": [
            "\u001b[0;31m---------------------------------------------------------------------------\u001b[0m",
            "\u001b[0;31mArgumentError\u001b[0m                             Traceback (most recent call last)",
            "\u001b[0;32m<ipython-input-19-845366bdfb00>\u001b[0m in \u001b[0;36m<module>\u001b[0;34m()\u001b[0m\n\u001b[1;32m      2\u001b[0m study = optuna.create_study(study_name=study_name,\n\u001b[1;32m      3\u001b[0m                             \u001b[0mstorage\u001b[0m\u001b[0;34m=\u001b[0m\u001b[0;34m'optuna_study.db'\u001b[0m\u001b[0;34m,\u001b[0m\u001b[0;34m\u001b[0m\u001b[0;34m\u001b[0m\u001b[0m\n\u001b[0;32m----> 4\u001b[0;31m                             load_if_exists=True)\n\u001b[0m\u001b[1;32m      5\u001b[0m \u001b[0mstudy\u001b[0m\u001b[0;34m.\u001b[0m\u001b[0moptimize\u001b[0m\u001b[0;34m(\u001b[0m\u001b[0mobjective\u001b[0m\u001b[0;34m,\u001b[0m \u001b[0mn_trials\u001b[0m\u001b[0;34m=\u001b[0m\u001b[0;36m100\u001b[0m\u001b[0;34m)\u001b[0m\u001b[0;34m\u001b[0m\u001b[0;34m\u001b[0m\u001b[0m\n",
            "\u001b[0;32m/usr/local/lib/python3.7/dist-packages/optuna/study.py\u001b[0m in \u001b[0;36mcreate_study\u001b[0;34m(storage, sampler, pruner, study_name, direction, load_if_exists, directions)\u001b[0m\n\u001b[1;32m   1134\u001b[0m     ]\n\u001b[1;32m   1135\u001b[0m \u001b[0;34m\u001b[0m\u001b[0m\n\u001b[0;32m-> 1136\u001b[0;31m     \u001b[0mstorage\u001b[0m \u001b[0;34m=\u001b[0m \u001b[0mstorages\u001b[0m\u001b[0;34m.\u001b[0m\u001b[0mget_storage\u001b[0m\u001b[0;34m(\u001b[0m\u001b[0mstorage\u001b[0m\u001b[0;34m)\u001b[0m\u001b[0;34m\u001b[0m\u001b[0;34m\u001b[0m\u001b[0m\n\u001b[0m\u001b[1;32m   1137\u001b[0m     \u001b[0;32mtry\u001b[0m\u001b[0;34m:\u001b[0m\u001b[0;34m\u001b[0m\u001b[0;34m\u001b[0m\u001b[0m\n\u001b[1;32m   1138\u001b[0m         \u001b[0mstudy_id\u001b[0m \u001b[0;34m=\u001b[0m \u001b[0mstorage\u001b[0m\u001b[0;34m.\u001b[0m\u001b[0mcreate_new_study\u001b[0m\u001b[0;34m(\u001b[0m\u001b[0mstudy_name\u001b[0m\u001b[0;34m)\u001b[0m\u001b[0;34m\u001b[0m\u001b[0;34m\u001b[0m\u001b[0m\n",
            "\u001b[0;32m/usr/local/lib/python3.7/dist-packages/optuna/storages/__init__.py\u001b[0m in \u001b[0;36mget_storage\u001b[0;34m(storage)\u001b[0m\n\u001b[1;32m     26\u001b[0m             \u001b[0;32mreturn\u001b[0m \u001b[0mRedisStorage\u001b[0m\u001b[0;34m(\u001b[0m\u001b[0mstorage\u001b[0m\u001b[0;34m)\u001b[0m\u001b[0;34m\u001b[0m\u001b[0;34m\u001b[0m\u001b[0m\n\u001b[1;32m     27\u001b[0m         \u001b[0;32melse\u001b[0m\u001b[0;34m:\u001b[0m\u001b[0;34m\u001b[0m\u001b[0;34m\u001b[0m\u001b[0m\n\u001b[0;32m---> 28\u001b[0;31m             \u001b[0;32mreturn\u001b[0m \u001b[0m_CachedStorage\u001b[0m\u001b[0;34m(\u001b[0m\u001b[0mRDBStorage\u001b[0m\u001b[0;34m(\u001b[0m\u001b[0mstorage\u001b[0m\u001b[0;34m)\u001b[0m\u001b[0;34m)\u001b[0m\u001b[0;34m\u001b[0m\u001b[0;34m\u001b[0m\u001b[0m\n\u001b[0m\u001b[1;32m     29\u001b[0m     \u001b[0;32melif\u001b[0m \u001b[0misinstance\u001b[0m\u001b[0;34m(\u001b[0m\u001b[0mstorage\u001b[0m\u001b[0;34m,\u001b[0m \u001b[0mRDBStorage\u001b[0m\u001b[0;34m)\u001b[0m\u001b[0;34m:\u001b[0m\u001b[0;34m\u001b[0m\u001b[0;34m\u001b[0m\u001b[0m\n\u001b[1;32m     30\u001b[0m         \u001b[0;32mreturn\u001b[0m \u001b[0m_CachedStorage\u001b[0m\u001b[0;34m(\u001b[0m\u001b[0mstorage\u001b[0m\u001b[0;34m)\u001b[0m\u001b[0;34m\u001b[0m\u001b[0;34m\u001b[0m\u001b[0m\n",
            "\u001b[0;32m/usr/local/lib/python3.7/dist-packages/optuna/storages/_rdb/storage.py\u001b[0m in \u001b[0;36m__init__\u001b[0;34m(self, url, engine_kwargs, skip_compatibility_check, heartbeat_interval, grace_period, failed_trial_callback)\u001b[0m\n\u001b[1;32m    172\u001b[0m \u001b[0;34m\u001b[0m\u001b[0m\n\u001b[1;32m    173\u001b[0m         \u001b[0;32mtry\u001b[0m\u001b[0;34m:\u001b[0m\u001b[0;34m\u001b[0m\u001b[0;34m\u001b[0m\u001b[0m\n\u001b[0;32m--> 174\u001b[0;31m             \u001b[0mself\u001b[0m\u001b[0;34m.\u001b[0m\u001b[0mengine\u001b[0m \u001b[0;34m=\u001b[0m \u001b[0mcreate_engine\u001b[0m\u001b[0;34m(\u001b[0m\u001b[0mself\u001b[0m\u001b[0;34m.\u001b[0m\u001b[0murl\u001b[0m\u001b[0;34m,\u001b[0m \u001b[0;34m**\u001b[0m\u001b[0mself\u001b[0m\u001b[0;34m.\u001b[0m\u001b[0mengine_kwargs\u001b[0m\u001b[0;34m)\u001b[0m\u001b[0;34m\u001b[0m\u001b[0;34m\u001b[0m\u001b[0m\n\u001b[0m\u001b[1;32m    175\u001b[0m         \u001b[0;32mexcept\u001b[0m \u001b[0mImportError\u001b[0m \u001b[0;32mas\u001b[0m \u001b[0me\u001b[0m\u001b[0;34m:\u001b[0m\u001b[0;34m\u001b[0m\u001b[0;34m\u001b[0m\u001b[0m\n\u001b[1;32m    176\u001b[0m             raise ImportError(\n",
            "\u001b[0;32m<string>\u001b[0m in \u001b[0;36mcreate_engine\u001b[0;34m(url, **kwargs)\u001b[0m\n",
            "\u001b[0;32m/usr/local/lib/python3.7/dist-packages/sqlalchemy/util/deprecations.py\u001b[0m in \u001b[0;36mwarned\u001b[0;34m(fn, *args, **kwargs)\u001b[0m\n\u001b[1;32m    296\u001b[0m                         \u001b[0mstacklevel\u001b[0m\u001b[0;34m=\u001b[0m\u001b[0;36m3\u001b[0m\u001b[0;34m,\u001b[0m\u001b[0;34m\u001b[0m\u001b[0;34m\u001b[0m\u001b[0m\n\u001b[1;32m    297\u001b[0m                     )\n\u001b[0;32m--> 298\u001b[0;31m             \u001b[0;32mreturn\u001b[0m \u001b[0mfn\u001b[0m\u001b[0;34m(\u001b[0m\u001b[0;34m*\u001b[0m\u001b[0margs\u001b[0m\u001b[0;34m,\u001b[0m \u001b[0;34m**\u001b[0m\u001b[0mkwargs\u001b[0m\u001b[0;34m)\u001b[0m\u001b[0;34m\u001b[0m\u001b[0;34m\u001b[0m\u001b[0m\n\u001b[0m\u001b[1;32m    299\u001b[0m \u001b[0;34m\u001b[0m\u001b[0m\n\u001b[1;32m    300\u001b[0m         \u001b[0mdoc\u001b[0m \u001b[0;34m=\u001b[0m \u001b[0mfn\u001b[0m\u001b[0;34m.\u001b[0m\u001b[0m__doc__\u001b[0m \u001b[0;32mis\u001b[0m \u001b[0;32mnot\u001b[0m \u001b[0;32mNone\u001b[0m \u001b[0;32mand\u001b[0m \u001b[0mfn\u001b[0m\u001b[0;34m.\u001b[0m\u001b[0m__doc__\u001b[0m \u001b[0;32mor\u001b[0m \u001b[0;34m\"\"\u001b[0m\u001b[0;34m\u001b[0m\u001b[0;34m\u001b[0m\u001b[0m\n",
            "\u001b[0;32m/usr/local/lib/python3.7/dist-packages/sqlalchemy/engine/create.py\u001b[0m in \u001b[0;36mcreate_engine\u001b[0;34m(url, **kwargs)\u001b[0m\n\u001b[1;32m    516\u001b[0m \u001b[0;34m\u001b[0m\u001b[0m\n\u001b[1;32m    517\u001b[0m     \u001b[0;31m# create url.URL object\u001b[0m\u001b[0;34m\u001b[0m\u001b[0;34m\u001b[0m\u001b[0;34m\u001b[0m\u001b[0m\n\u001b[0;32m--> 518\u001b[0;31m     \u001b[0mu\u001b[0m \u001b[0;34m=\u001b[0m \u001b[0m_url\u001b[0m\u001b[0;34m.\u001b[0m\u001b[0mmake_url\u001b[0m\u001b[0;34m(\u001b[0m\u001b[0murl\u001b[0m\u001b[0;34m)\u001b[0m\u001b[0;34m\u001b[0m\u001b[0;34m\u001b[0m\u001b[0m\n\u001b[0m\u001b[1;32m    519\u001b[0m \u001b[0;34m\u001b[0m\u001b[0m\n\u001b[1;32m    520\u001b[0m     \u001b[0mu\u001b[0m\u001b[0;34m,\u001b[0m \u001b[0mplugins\u001b[0m\u001b[0;34m,\u001b[0m \u001b[0mkwargs\u001b[0m \u001b[0;34m=\u001b[0m \u001b[0mu\u001b[0m\u001b[0;34m.\u001b[0m\u001b[0m_instantiate_plugins\u001b[0m\u001b[0;34m(\u001b[0m\u001b[0mkwargs\u001b[0m\u001b[0;34m)\u001b[0m\u001b[0;34m\u001b[0m\u001b[0;34m\u001b[0m\u001b[0m\n",
            "\u001b[0;32m/usr/local/lib/python3.7/dist-packages/sqlalchemy/engine/url.py\u001b[0m in \u001b[0;36mmake_url\u001b[0;34m(name_or_url)\u001b[0m\n\u001b[1;32m    709\u001b[0m \u001b[0;34m\u001b[0m\u001b[0m\n\u001b[1;32m    710\u001b[0m     \u001b[0;32mif\u001b[0m \u001b[0misinstance\u001b[0m\u001b[0;34m(\u001b[0m\u001b[0mname_or_url\u001b[0m\u001b[0;34m,\u001b[0m \u001b[0mutil\u001b[0m\u001b[0;34m.\u001b[0m\u001b[0mstring_types\u001b[0m\u001b[0;34m)\u001b[0m\u001b[0;34m:\u001b[0m\u001b[0;34m\u001b[0m\u001b[0;34m\u001b[0m\u001b[0m\n\u001b[0;32m--> 711\u001b[0;31m         \u001b[0;32mreturn\u001b[0m \u001b[0m_parse_rfc1738_args\u001b[0m\u001b[0;34m(\u001b[0m\u001b[0mname_or_url\u001b[0m\u001b[0;34m)\u001b[0m\u001b[0;34m\u001b[0m\u001b[0;34m\u001b[0m\u001b[0m\n\u001b[0m\u001b[1;32m    712\u001b[0m     \u001b[0;32melse\u001b[0m\u001b[0;34m:\u001b[0m\u001b[0;34m\u001b[0m\u001b[0;34m\u001b[0m\u001b[0m\n\u001b[1;32m    713\u001b[0m         \u001b[0;32mreturn\u001b[0m \u001b[0mname_or_url\u001b[0m\u001b[0;34m\u001b[0m\u001b[0;34m\u001b[0m\u001b[0m\n",
            "\u001b[0;32m/usr/local/lib/python3.7/dist-packages/sqlalchemy/engine/url.py\u001b[0m in \u001b[0;36m_parse_rfc1738_args\u001b[0;34m(name)\u001b[0m\n\u001b[1;32m    776\u001b[0m     \u001b[0;32melse\u001b[0m\u001b[0;34m:\u001b[0m\u001b[0;34m\u001b[0m\u001b[0;34m\u001b[0m\u001b[0m\n\u001b[1;32m    777\u001b[0m         raise exc.ArgumentError(\n\u001b[0;32m--> 778\u001b[0;31m             \u001b[0;34m\"Could not parse rfc1738 URL from string '%s'\"\u001b[0m \u001b[0;34m%\u001b[0m \u001b[0mname\u001b[0m\u001b[0;34m\u001b[0m\u001b[0;34m\u001b[0m\u001b[0m\n\u001b[0m\u001b[1;32m    779\u001b[0m         )\n\u001b[1;32m    780\u001b[0m \u001b[0;34m\u001b[0m\u001b[0m\n",
            "\u001b[0;31mArgumentError\u001b[0m: Could not parse rfc1738 URL from string 'optuna_study.db'"
          ]
        }
      ]
    },
    {
      "cell_type": "code",
      "metadata": {
        "id": "aqlxrjH7gp-c",
        "colab": {
          "base_uri": "https://localhost:8080/",
          "height": 362
        },
        "outputId": "e6ea5f7b-2079-4f1d-984b-10a52034868e"
      },
      "source": [
        "import numpy as np\n",
        "import matplotlib.pyplot as plt\n",
        "from ipywidgets import Play, IntSlider, jslink, HBox, interactive_output\n",
        "\n",
        "values = [each.value for each in study.trials]\n",
        "best_values = [np.min(values[:k+1]) for k in range(len(values))]\n",
        "x = [each.params_in_internal_repr['x'] for each in study.trials]\n",
        "\n",
        "def f(k):\n",
        "    plt.figure(figsize=(9,4.5))\n",
        "    ax = plt.subplot(121)\n",
        "    ax.set_xlim(np.min(x)-0.5, np.max(x)+0.5)\n",
        "    ax.set_ylim(np.min(values)-5, np.max(values)+5)\n",
        "    ax.scatter(x[:k], values[:k], alpha=0.3)\n",
        "    ax.scatter(x[k-1], values[k-1])\n",
        "\n",
        "    ax = plt.subplot(122)\n",
        "    ax.plot(best_values[:k])\n",
        "    ax.set_yscale('log')\n",
        "    plt.show()\n",
        "\n",
        "play = Play(value=1, min=0, max=len(study.trials), step=1, interval=500, description=\"Press play\",)\n",
        "slider = IntSlider(min=0, max=len(study.trials))\n",
        "jslink((play, 'value'), (slider, 'value'))\n",
        "ui = HBox([play, slider])\n",
        "out = interactive_output(f, {'k': slider})\n",
        "display(ui, out)    "
      ],
      "execution_count": null,
      "outputs": [
        {
          "output_type": "error",
          "ename": "AttributeError",
          "evalue": "ignored",
          "traceback": [
            "\u001b[0;31m---------------------------------------------------------------------------\u001b[0m",
            "\u001b[0;31mAttributeError\u001b[0m                            Traceback (most recent call last)",
            "\u001b[0;32m<ipython-input-20-d0a2e53f9933>\u001b[0m in \u001b[0;36m<module>\u001b[0;34m()\u001b[0m\n\u001b[1;32m      5\u001b[0m \u001b[0mvalues\u001b[0m \u001b[0;34m=\u001b[0m \u001b[0;34m[\u001b[0m\u001b[0meach\u001b[0m\u001b[0;34m.\u001b[0m\u001b[0mvalue\u001b[0m \u001b[0;32mfor\u001b[0m \u001b[0meach\u001b[0m \u001b[0;32min\u001b[0m \u001b[0mstudy\u001b[0m\u001b[0;34m.\u001b[0m\u001b[0mtrials\u001b[0m\u001b[0;34m]\u001b[0m\u001b[0;34m\u001b[0m\u001b[0;34m\u001b[0m\u001b[0m\n\u001b[1;32m      6\u001b[0m \u001b[0mbest_values\u001b[0m \u001b[0;34m=\u001b[0m \u001b[0;34m[\u001b[0m\u001b[0mnp\u001b[0m\u001b[0;34m.\u001b[0m\u001b[0mmin\u001b[0m\u001b[0;34m(\u001b[0m\u001b[0mvalues\u001b[0m\u001b[0;34m[\u001b[0m\u001b[0;34m:\u001b[0m\u001b[0mk\u001b[0m\u001b[0;34m+\u001b[0m\u001b[0;36m1\u001b[0m\u001b[0;34m]\u001b[0m\u001b[0;34m)\u001b[0m \u001b[0;32mfor\u001b[0m \u001b[0mk\u001b[0m \u001b[0;32min\u001b[0m \u001b[0mrange\u001b[0m\u001b[0;34m(\u001b[0m\u001b[0mlen\u001b[0m\u001b[0;34m(\u001b[0m\u001b[0mvalues\u001b[0m\u001b[0;34m)\u001b[0m\u001b[0;34m)\u001b[0m\u001b[0;34m]\u001b[0m\u001b[0;34m\u001b[0m\u001b[0;34m\u001b[0m\u001b[0m\n\u001b[0;32m----> 7\u001b[0;31m \u001b[0mx\u001b[0m \u001b[0;34m=\u001b[0m \u001b[0;34m[\u001b[0m\u001b[0meach\u001b[0m\u001b[0;34m.\u001b[0m\u001b[0mparams_in_internal_repr\u001b[0m\u001b[0;34m[\u001b[0m\u001b[0;34m'x'\u001b[0m\u001b[0;34m]\u001b[0m \u001b[0;32mfor\u001b[0m \u001b[0meach\u001b[0m \u001b[0;32min\u001b[0m \u001b[0mstudy\u001b[0m\u001b[0;34m.\u001b[0m\u001b[0mtrials\u001b[0m\u001b[0;34m]\u001b[0m\u001b[0;34m\u001b[0m\u001b[0;34m\u001b[0m\u001b[0m\n\u001b[0m\u001b[1;32m      8\u001b[0m \u001b[0;34m\u001b[0m\u001b[0m\n\u001b[1;32m      9\u001b[0m \u001b[0;32mdef\u001b[0m \u001b[0mf\u001b[0m\u001b[0;34m(\u001b[0m\u001b[0mk\u001b[0m\u001b[0;34m)\u001b[0m\u001b[0;34m:\u001b[0m\u001b[0;34m\u001b[0m\u001b[0;34m\u001b[0m\u001b[0m\n",
            "\u001b[0;32m<ipython-input-20-d0a2e53f9933>\u001b[0m in \u001b[0;36m<listcomp>\u001b[0;34m(.0)\u001b[0m\n\u001b[1;32m      5\u001b[0m \u001b[0mvalues\u001b[0m \u001b[0;34m=\u001b[0m \u001b[0;34m[\u001b[0m\u001b[0meach\u001b[0m\u001b[0;34m.\u001b[0m\u001b[0mvalue\u001b[0m \u001b[0;32mfor\u001b[0m \u001b[0meach\u001b[0m \u001b[0;32min\u001b[0m \u001b[0mstudy\u001b[0m\u001b[0;34m.\u001b[0m\u001b[0mtrials\u001b[0m\u001b[0;34m]\u001b[0m\u001b[0;34m\u001b[0m\u001b[0;34m\u001b[0m\u001b[0m\n\u001b[1;32m      6\u001b[0m \u001b[0mbest_values\u001b[0m \u001b[0;34m=\u001b[0m \u001b[0;34m[\u001b[0m\u001b[0mnp\u001b[0m\u001b[0;34m.\u001b[0m\u001b[0mmin\u001b[0m\u001b[0;34m(\u001b[0m\u001b[0mvalues\u001b[0m\u001b[0;34m[\u001b[0m\u001b[0;34m:\u001b[0m\u001b[0mk\u001b[0m\u001b[0;34m+\u001b[0m\u001b[0;36m1\u001b[0m\u001b[0;34m]\u001b[0m\u001b[0;34m)\u001b[0m \u001b[0;32mfor\u001b[0m \u001b[0mk\u001b[0m \u001b[0;32min\u001b[0m \u001b[0mrange\u001b[0m\u001b[0;34m(\u001b[0m\u001b[0mlen\u001b[0m\u001b[0;34m(\u001b[0m\u001b[0mvalues\u001b[0m\u001b[0;34m)\u001b[0m\u001b[0;34m)\u001b[0m\u001b[0;34m]\u001b[0m\u001b[0;34m\u001b[0m\u001b[0;34m\u001b[0m\u001b[0m\n\u001b[0;32m----> 7\u001b[0;31m \u001b[0mx\u001b[0m \u001b[0;34m=\u001b[0m \u001b[0;34m[\u001b[0m\u001b[0meach\u001b[0m\u001b[0;34m.\u001b[0m\u001b[0mparams_in_internal_repr\u001b[0m\u001b[0;34m[\u001b[0m\u001b[0;34m'x'\u001b[0m\u001b[0;34m]\u001b[0m \u001b[0;32mfor\u001b[0m \u001b[0meach\u001b[0m \u001b[0;32min\u001b[0m \u001b[0mstudy\u001b[0m\u001b[0;34m.\u001b[0m\u001b[0mtrials\u001b[0m\u001b[0;34m]\u001b[0m\u001b[0;34m\u001b[0m\u001b[0;34m\u001b[0m\u001b[0m\n\u001b[0m\u001b[1;32m      8\u001b[0m \u001b[0;34m\u001b[0m\u001b[0m\n\u001b[1;32m      9\u001b[0m \u001b[0;32mdef\u001b[0m \u001b[0mf\u001b[0m\u001b[0;34m(\u001b[0m\u001b[0mk\u001b[0m\u001b[0;34m)\u001b[0m\u001b[0;34m:\u001b[0m\u001b[0;34m\u001b[0m\u001b[0;34m\u001b[0m\u001b[0m\n",
            "\u001b[0;31mAttributeError\u001b[0m: 'FrozenTrial' object has no attribute 'params_in_internal_repr'"
          ]
        }
      ]
    },
    {
      "cell_type": "code",
      "metadata": {
        "id": "T5H5w2sBiZrs"
      },
      "source": [
        ""
      ],
      "execution_count": null,
      "outputs": []
    }
  ]
}